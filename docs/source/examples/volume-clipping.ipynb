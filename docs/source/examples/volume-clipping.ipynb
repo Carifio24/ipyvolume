{
 "cells": [
  {
   "cell_type": "markdown",
   "id": "580c6579",
   "metadata": {},
   "source": [
    "# Clipping of volume\n",
    "\n",
    "In order to inspect volumetric renderings, it may be useful to remove parts of it. Using the `clip_x_min`, `clip_x_max`, `clip_y_min`, `clip_y_max`, `clip_z_min` and `clip_z_max` traits, we can control which part of the volume is rendered. In the example below you can use the sliders labels 'xmin' and 'xmax' to inspect regions inside the volume."
   ]
  },
  {
   "cell_type": "code",
   "execution_count": null,
   "id": "c7e47337",
   "metadata": {},
   "outputs": [],
   "source": [
    "import ipyvolume as ipv\n",
    "fig = ipv.figure()\n",
    "volume = ipv.examples.head(show=False, description=\"Patient X\")\n",
    "ipv.show()"
   ]
  },
  {
   "cell_type": "code",
   "execution_count": null,
   "id": "34ea1395",
   "metadata": {},
   "outputs": [],
   "source": [
    "import ipywidgets as w\n",
    "clip_min = w.IntSlider(description=\"xmin\", min=0, max=128, value=50)\n",
    "clip_max = w.IntSlider(description=\"xmax\", min=0, max=128, value=100)\n",
    "w.jslink((clip_min, 'value'), (volume, 'clip_x_min'))\n",
    "w.jslink((clip_max, 'value'), (volume, 'clip_x_max'))\n",
    "container = ipv.gcc()\n",
    "container.children = container.children + [clip_min, clip_max]\n"
   ]
  },
  {
   "cell_type": "markdown",
   "id": "81702c3d",
   "metadata": {},
   "source": [
    "Note that you can also link the instance the `slice_x` trait of the figure to the `clip_x_max` trait. Now we can hold the shift key and the clip plane will follow the mouse cursor."
   ]
  },
  {
   "cell_type": "code",
   "execution_count": null,
   "id": "68b54115",
   "metadata": {},
   "outputs": [],
   "source": [
    "w.jslink((fig, 'slice_x'), (volume, 'clip_x_max'));"
   ]
  },
  {
   "cell_type": "markdown",
   "id": "22f48b7f",
   "metadata": {},
   "source": [
    "[screencapture](screenshot/volume-clip.gif)"
   ]
  }
 ],
 "metadata": {
  "kernelspec": {
   "display_name": "Python 3 (ipykernel)",
   "language": "python",
   "name": "python3"
  },
  "language_info": {
   "codemirror_mode": {
    "name": "ipython",
    "version": 3
   },
   "file_extension": ".py",
   "mimetype": "text/x-python",
   "name": "python",
   "nbconvert_exporter": "python",
   "pygments_lexer": "ipython3",
   "version": "3.9.16"
  }
 },
 "nbformat": 4,
 "nbformat_minor": 5
}
